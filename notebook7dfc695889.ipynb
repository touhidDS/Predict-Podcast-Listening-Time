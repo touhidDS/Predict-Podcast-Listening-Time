{
 "cells": [
  {
   "cell_type": "code",
   "execution_count": 1,
   "id": "39abbdf5",
   "metadata": {
    "execution": {
     "iopub.execute_input": "2025-05-06T08:04:43.339228Z",
     "iopub.status.busy": "2025-05-06T08:04:43.338766Z",
     "iopub.status.idle": "2025-05-06T08:04:47.623370Z",
     "shell.execute_reply": "2025-05-06T08:04:47.622401Z"
    },
    "papermill": {
     "duration": 4.297009,
     "end_time": "2025-05-06T08:04:47.625418",
     "exception": false,
     "start_time": "2025-05-06T08:04:43.328409",
     "status": "completed"
    },
    "tags": []
   },
   "outputs": [],
   "source": [
    "import numpy as np \n",
    "import pandas as pd \n",
    "import matplotlib.pyplot as plt \n",
    "import seaborn as sns "
   ]
  },
  {
   "cell_type": "code",
   "execution_count": 2,
   "id": "97ff1fc7",
   "metadata": {
    "execution": {
     "iopub.execute_input": "2025-05-06T08:04:47.636783Z",
     "iopub.status.busy": "2025-05-06T08:04:47.636291Z",
     "iopub.status.idle": "2025-05-06T08:04:50.559320Z",
     "shell.execute_reply": "2025-05-06T08:04:50.558310Z"
    },
    "papermill": {
     "duration": 2.930841,
     "end_time": "2025-05-06T08:04:50.561340",
     "exception": false,
     "start_time": "2025-05-06T08:04:47.630499",
     "status": "completed"
    },
    "tags": []
   },
   "outputs": [],
   "source": [
    "df_train=pd.read_csv(\"/kaggle/input/playground-series-s5e4/train.csv\")\n",
    "df_test=pd.read_csv(\"/kaggle/input/playground-series-s5e4/test.csv\")\n",
    "\n",
    "\n"
   ]
  },
  {
   "cell_type": "code",
   "execution_count": 3,
   "id": "b31dfe68",
   "metadata": {
    "execution": {
     "iopub.execute_input": "2025-05-06T08:04:50.572841Z",
     "iopub.status.busy": "2025-05-06T08:04:50.572540Z",
     "iopub.status.idle": "2025-05-06T08:04:50.647848Z",
     "shell.execute_reply": "2025-05-06T08:04:50.646760Z"
    },
    "papermill": {
     "duration": 0.082881,
     "end_time": "2025-05-06T08:04:50.649665",
     "exception": false,
     "start_time": "2025-05-06T08:04:50.566784",
     "status": "completed"
    },
    "tags": []
   },
   "outputs": [],
   "source": [
    "df_train.drop(columns='id',inplace=True)\n",
    "df_test.drop(columns='id',inplace=True)\n"
   ]
  },
  {
   "cell_type": "code",
   "execution_count": 4,
   "id": "46e0149e",
   "metadata": {
    "execution": {
     "iopub.execute_input": "2025-05-06T08:04:50.660548Z",
     "iopub.status.busy": "2025-05-06T08:04:50.660256Z",
     "iopub.status.idle": "2025-05-06T08:04:50.923234Z",
     "shell.execute_reply": "2025-05-06T08:04:50.921998Z"
    },
    "papermill": {
     "duration": 0.27062,
     "end_time": "2025-05-06T08:04:50.924954",
     "exception": false,
     "start_time": "2025-05-06T08:04:50.654334",
     "status": "completed"
    },
    "tags": []
   },
   "outputs": [
    {
     "name": "stdout",
     "output_type": "stream",
     "text": [
      "<class 'pandas.core.frame.DataFrame'>\n",
      "RangeIndex: 750000 entries, 0 to 749999\n",
      "Data columns (total 11 columns):\n",
      " #   Column                       Non-Null Count   Dtype  \n",
      "---  ------                       --------------   -----  \n",
      " 0   Podcast_Name                 750000 non-null  object \n",
      " 1   Episode_Title                750000 non-null  object \n",
      " 2   Episode_Length_minutes       662907 non-null  float64\n",
      " 3   Genre                        750000 non-null  object \n",
      " 4   Host_Popularity_percentage   750000 non-null  float64\n",
      " 5   Publication_Day              750000 non-null  object \n",
      " 6   Publication_Time             750000 non-null  object \n",
      " 7   Guest_Popularity_percentage  603970 non-null  float64\n",
      " 8   Number_of_Ads                749999 non-null  float64\n",
      " 9   Episode_Sentiment            750000 non-null  object \n",
      " 10  Listening_Time_minutes       750000 non-null  float64\n",
      "dtypes: float64(5), object(6)\n",
      "memory usage: 62.9+ MB\n"
     ]
    }
   ],
   "source": [
    "df_train.info()"
   ]
  },
  {
   "cell_type": "code",
   "execution_count": 5,
   "id": "43d4e566",
   "metadata": {
    "execution": {
     "iopub.execute_input": "2025-05-06T08:04:50.936107Z",
     "iopub.status.busy": "2025-05-06T08:04:50.935722Z",
     "iopub.status.idle": "2025-05-06T08:04:51.182069Z",
     "shell.execute_reply": "2025-05-06T08:04:51.180943Z"
    },
    "papermill": {
     "duration": 0.25395,
     "end_time": "2025-05-06T08:04:51.183777",
     "exception": false,
     "start_time": "2025-05-06T08:04:50.929827",
     "status": "completed"
    },
    "tags": []
   },
   "outputs": [
    {
     "data": {
      "text/plain": [
       "Podcast_Name                    0.000000\n",
       "Episode_Title                   0.000000\n",
       "Episode_Length_minutes         11.612400\n",
       "Genre                           0.000000\n",
       "Host_Popularity_percentage      0.000000\n",
       "Publication_Day                 0.000000\n",
       "Publication_Time                0.000000\n",
       "Guest_Popularity_percentage    19.470667\n",
       "Number_of_Ads                   0.000133\n",
       "Episode_Sentiment               0.000000\n",
       "Listening_Time_minutes          0.000000\n",
       "dtype: float64"
      ]
     },
     "execution_count": 5,
     "metadata": {},
     "output_type": "execute_result"
    }
   ],
   "source": [
    "df_train.isnull().sum()/ len(df_train)*100"
   ]
  },
  {
   "cell_type": "code",
   "execution_count": 6,
   "id": "49324323",
   "metadata": {
    "execution": {
     "iopub.execute_input": "2025-05-06T08:04:51.195370Z",
     "iopub.status.busy": "2025-05-06T08:04:51.195026Z",
     "iopub.status.idle": "2025-05-06T08:04:51.214720Z",
     "shell.execute_reply": "2025-05-06T08:04:51.213601Z"
    },
    "papermill": {
     "duration": 0.027752,
     "end_time": "2025-05-06T08:04:51.216616",
     "exception": false,
     "start_time": "2025-05-06T08:04:51.188864",
     "status": "completed"
    },
    "tags": []
   },
   "outputs": [
    {
     "data": {
      "text/plain": [
       "Index(['Episode_Length_minutes', 'Host_Popularity_percentage',\n",
       "       'Guest_Popularity_percentage', 'Number_of_Ads',\n",
       "       'Listening_Time_minutes'],\n",
       "      dtype='object')"
      ]
     },
     "execution_count": 6,
     "metadata": {},
     "output_type": "execute_result"
    }
   ],
   "source": [
    "## numerical columns \n",
    "numerical_col=df_train.select_dtypes(include=[\"int64\",'float64']).columns\n",
    "numerical_col"
   ]
  },
  {
   "cell_type": "code",
   "execution_count": 7,
   "id": "848f845d",
   "metadata": {
    "execution": {
     "iopub.execute_input": "2025-05-06T08:04:51.228048Z",
     "iopub.status.busy": "2025-05-06T08:04:51.227679Z",
     "iopub.status.idle": "2025-05-06T08:04:51.232050Z",
     "shell.execute_reply": "2025-05-06T08:04:51.230959Z"
    },
    "papermill": {
     "duration": 0.011931,
     "end_time": "2025-05-06T08:04:51.233626",
     "exception": false,
     "start_time": "2025-05-06T08:04:51.221695",
     "status": "completed"
    },
    "tags": []
   },
   "outputs": [],
   "source": [
    "# i=1\n",
    "# plt.figure(figsize=(20,18))\n",
    "# for col in numerical_col:\n",
    "#     plt.subplot(3,2,i)\n",
    "#     sns.boxplot(x=df_train[col])\n",
    "#     i=i+1\n",
    "#     plt.title(col)\n",
    "# plt.tight_layout()\n",
    "# plt.show()    "
   ]
  },
  {
   "cell_type": "code",
   "execution_count": null,
   "id": "54a71ed8",
   "metadata": {
    "papermill": {
     "duration": 0.004949,
     "end_time": "2025-05-06T08:04:51.244185",
     "exception": false,
     "start_time": "2025-05-06T08:04:51.239236",
     "status": "completed"
    },
    "tags": []
   },
   "outputs": [],
   "source": []
  },
  {
   "cell_type": "code",
   "execution_count": 8,
   "id": "1837ffb7",
   "metadata": {
    "execution": {
     "iopub.execute_input": "2025-05-06T08:04:51.255463Z",
     "iopub.status.busy": "2025-05-06T08:04:51.255123Z",
     "iopub.status.idle": "2025-05-06T08:04:51.259799Z",
     "shell.execute_reply": "2025-05-06T08:04:51.258818Z"
    },
    "papermill": {
     "duration": 0.012209,
     "end_time": "2025-05-06T08:04:51.261408",
     "exception": false,
     "start_time": "2025-05-06T08:04:51.249199",
     "status": "completed"
    },
    "tags": []
   },
   "outputs": [],
   "source": [
    "# df_train['Episode_Length_minutes'].plot(kind=\"kde\")"
   ]
  },
  {
   "cell_type": "code",
   "execution_count": 9,
   "id": "0d5ad7cd",
   "metadata": {
    "execution": {
     "iopub.execute_input": "2025-05-06T08:04:51.273365Z",
     "iopub.status.busy": "2025-05-06T08:04:51.272751Z",
     "iopub.status.idle": "2025-05-06T08:04:51.320028Z",
     "shell.execute_reply": "2025-05-06T08:04:51.319151Z"
    },
    "papermill": {
     "duration": 0.055137,
     "end_time": "2025-05-06T08:04:51.321959",
     "exception": false,
     "start_time": "2025-05-06T08:04:51.266822",
     "status": "completed"
    },
    "tags": []
   },
   "outputs": [
    {
     "data": {
      "text/plain": [
       "-0.0020056126382347306"
      ]
     },
     "execution_count": 9,
     "metadata": {},
     "output_type": "execute_result"
    }
   ],
   "source": [
    "df_train['Episode_Length_minutes'].skew()"
   ]
  },
  {
   "cell_type": "code",
   "execution_count": 10,
   "id": "c377f1e8",
   "metadata": {
    "execution": {
     "iopub.execute_input": "2025-05-06T08:04:51.334309Z",
     "iopub.status.busy": "2025-05-06T08:04:51.333996Z",
     "iopub.status.idle": "2025-05-06T08:04:51.356377Z",
     "shell.execute_reply": "2025-05-06T08:04:51.355380Z"
    },
    "papermill": {
     "duration": 0.031049,
     "end_time": "2025-05-06T08:04:51.358321",
     "exception": false,
     "start_time": "2025-05-06T08:04:51.327272",
     "status": "completed"
    },
    "tags": []
   },
   "outputs": [
    {
     "data": {
      "text/plain": [
       "-0.10703539321672742"
      ]
     },
     "execution_count": 10,
     "metadata": {},
     "output_type": "execute_result"
    }
   ],
   "source": [
    "df_train['Guest_Popularity_percentage'].skew()"
   ]
  },
  {
   "cell_type": "code",
   "execution_count": 11,
   "id": "75124f40",
   "metadata": {
    "execution": {
     "iopub.execute_input": "2025-05-06T08:04:51.370187Z",
     "iopub.status.busy": "2025-05-06T08:04:51.369824Z",
     "iopub.status.idle": "2025-05-06T08:04:51.440611Z",
     "shell.execute_reply": "2025-05-06T08:04:51.439527Z"
    },
    "papermill": {
     "duration": 0.07891,
     "end_time": "2025-05-06T08:04:51.442686",
     "exception": false,
     "start_time": "2025-05-06T08:04:51.363776",
     "status": "completed"
    },
    "tags": []
   },
   "outputs": [],
   "source": [
    "null_col=['Episode_Length_minutes','Guest_Popularity_percentage','Number_of_Ads']\n",
    "for col in null_col:\n",
    "    replace_val=df_train[col].median()\n",
    "    df_train[col]=df_train[col].fillna(replace_val)\n",
    "    df_test[col]=df_test[col].fillna(replace_val)"
   ]
  },
  {
   "cell_type": "code",
   "execution_count": 12,
   "id": "5d11eb6a",
   "metadata": {
    "execution": {
     "iopub.execute_input": "2025-05-06T08:04:51.458461Z",
     "iopub.status.busy": "2025-05-06T08:04:51.458151Z",
     "iopub.status.idle": "2025-05-06T08:04:51.709309Z",
     "shell.execute_reply": "2025-05-06T08:04:51.708323Z"
    },
    "papermill": {
     "duration": 0.261665,
     "end_time": "2025-05-06T08:04:51.710967",
     "exception": false,
     "start_time": "2025-05-06T08:04:51.449302",
     "status": "completed"
    },
    "tags": []
   },
   "outputs": [
    {
     "data": {
      "text/plain": [
       "Podcast_Name                   0\n",
       "Episode_Title                  0\n",
       "Episode_Length_minutes         0\n",
       "Genre                          0\n",
       "Host_Popularity_percentage     0\n",
       "Publication_Day                0\n",
       "Publication_Time               0\n",
       "Guest_Popularity_percentage    0\n",
       "Number_of_Ads                  0\n",
       "Episode_Sentiment              0\n",
       "Listening_Time_minutes         0\n",
       "dtype: int64"
      ]
     },
     "execution_count": 12,
     "metadata": {},
     "output_type": "execute_result"
    }
   ],
   "source": [
    "df_train.isnull().sum()"
   ]
  },
  {
   "cell_type": "code",
   "execution_count": 13,
   "id": "f0e49ad3",
   "metadata": {
    "execution": {
     "iopub.execute_input": "2025-05-06T08:04:51.723354Z",
     "iopub.status.busy": "2025-05-06T08:04:51.723053Z",
     "iopub.status.idle": "2025-05-06T08:04:51.727900Z",
     "shell.execute_reply": "2025-05-06T08:04:51.726941Z"
    },
    "papermill": {
     "duration": 0.013139,
     "end_time": "2025-05-06T08:04:51.729533",
     "exception": false,
     "start_time": "2025-05-06T08:04:51.716394",
     "status": "completed"
    },
    "tags": []
   },
   "outputs": [],
   "source": [
    "# i=1\n",
    "# plt.figure(figsize=(20,18))\n",
    "# for col in numerical_col:\n",
    "#     plt.subplot(3,2,i)\n",
    "#     sns.boxplot(x=df_train[col])\n",
    "#     i=i+1\n",
    "#     plt.title(col)\n",
    "# plt.tight_layout()\n",
    "# plt.show()   "
   ]
  },
  {
   "cell_type": "code",
   "execution_count": 14,
   "id": "470eeda0",
   "metadata": {
    "execution": {
     "iopub.execute_input": "2025-05-06T08:04:51.742558Z",
     "iopub.status.busy": "2025-05-06T08:04:51.742214Z",
     "iopub.status.idle": "2025-05-06T08:04:52.128610Z",
     "shell.execute_reply": "2025-05-06T08:04:52.127459Z"
    },
    "papermill": {
     "duration": 0.395444,
     "end_time": "2025-05-06T08:04:52.130649",
     "exception": false,
     "start_time": "2025-05-06T08:04:51.735205",
     "status": "completed"
    },
    "tags": []
   },
   "outputs": [
    {
     "name": "stdout",
     "output_type": "stream",
     "text": [
      "Podcast_Name\n",
      "Tech Talks             22847\n",
      "Sports Weekly          20053\n",
      "Funny Folks            19635\n",
      "Tech Trends            19549\n",
      "Fitness First          19488\n",
      "Business Insights      19480\n",
      "Style Guide            19364\n",
      "Game Day               19272\n",
      "Melody Mix             18889\n",
      "Criminal Minds         17735\n",
      "Finance Focus          17628\n",
      "Detective Diaries      17452\n",
      "Crime Chronicles       17374\n",
      "Athlete's Arena        17327\n",
      "Fashion Forward        17280\n",
      "Tune Time              17254\n",
      "Business Briefs        17012\n",
      "Lifestyle Lounge       16661\n",
      "True Crime Stories     16373\n",
      "Sports Central         16191\n",
      "Digital Digest         16171\n",
      "Humor Hub              16144\n",
      "Mystery Matters        16002\n",
      "Comedy Corner          15927\n",
      "Joke Junction          15074\n",
      "Wellness Wave          15009\n",
      "Sport Spot             14778\n",
      "Gadget Geek            14770\n",
      "Home & Living          14686\n",
      "Laugh Line             14673\n",
      "Life Lessons           14464\n",
      "World Watch            14043\n",
      "Sound Waves            13928\n",
      "Global News            13649\n",
      "Mind & Body            13639\n",
      "Daily Digest           13391\n",
      "Money Matters          13380\n",
      "Current Affairs        13138\n",
      "Market Masters         13092\n",
      "Study Sessions         13053\n",
      "Innovators             12913\n",
      "Music Matters          12652\n",
      "Learning Lab           12291\n",
      "Educational Nuggets    12245\n",
      "Healthy Living         12198\n",
      "Brain Boost            11543\n",
      "Health Hour            11114\n",
      "News Roundup            9169\n",
      "Name: count, dtype: int64\n",
      "\n",
      "\n",
      "Episode_Title\n",
      "Episode 71    10515\n",
      "Episode 62    10373\n",
      "Episode 31    10292\n",
      "Episode 61     9991\n",
      "Episode 69     9864\n",
      "              ...  \n",
      "Episode 2      5134\n",
      "Episode 25     5117\n",
      "Episode 41     4965\n",
      "Episode 37     4940\n",
      "Episode 95     4838\n",
      "Name: count, Length: 100, dtype: int64\n",
      "\n",
      "\n",
      "Genre\n",
      "Sports        87606\n",
      "Technology    86256\n",
      "True Crime    85059\n",
      "Lifestyle     82461\n",
      "Comedy        81453\n",
      "Business      80521\n",
      "Health        71416\n",
      "News          63385\n",
      "Music         62743\n",
      "Education     49100\n",
      "Name: count, dtype: int64\n",
      "\n",
      "\n",
      "Publication_Day\n",
      "Sunday       115946\n",
      "Monday       111963\n",
      "Friday       108237\n",
      "Wednesday    107886\n",
      "Thursday     104360\n",
      "Saturday     103505\n",
      "Tuesday       98103\n",
      "Name: count, dtype: int64\n",
      "\n",
      "\n",
      "Publication_Time\n",
      "Night        196849\n",
      "Evening      195778\n",
      "Afternoon    179460\n",
      "Morning      177913\n",
      "Name: count, dtype: int64\n",
      "\n",
      "\n",
      "Episode_Sentiment\n",
      "Neutral     251291\n",
      "Negative    250116\n",
      "Positive    248593\n",
      "Name: count, dtype: int64\n",
      "\n",
      "\n"
     ]
    }
   ],
   "source": [
    "catagorical_col=df_train.select_dtypes(include='object')\n",
    "for cat in catagorical_col:\n",
    "    print(df_train[cat].value_counts())\n",
    "    print('\\n')"
   ]
  },
  {
   "cell_type": "code",
   "execution_count": 15,
   "id": "a38bda10",
   "metadata": {
    "execution": {
     "iopub.execute_input": "2025-05-06T08:04:52.143935Z",
     "iopub.status.busy": "2025-05-06T08:04:52.143563Z",
     "iopub.status.idle": "2025-05-06T08:04:53.370010Z",
     "shell.execute_reply": "2025-05-06T08:04:53.368826Z"
    },
    "papermill": {
     "duration": 1.235288,
     "end_time": "2025-05-06T08:04:53.371961",
     "exception": false,
     "start_time": "2025-05-06T08:04:52.136673",
     "status": "completed"
    },
    "tags": []
   },
   "outputs": [],
   "source": [
    "from sklearn.preprocessing import LabelEncoder\n",
    "le=LabelEncoder()\n",
    "catagorical_col_label=['Publication_Day','Publication_Time','Episode_Sentiment','Genre','Podcast_Name']\n",
    "for cat in catagorical_col_label:\n",
    "    df_train[cat]=le.fit_transform(df_train[cat])\n",
    "    df_test[cat]=le.fit_transform(df_test[cat])\n",
    "    "
   ]
  },
  {
   "cell_type": "code",
   "execution_count": 16,
   "id": "0a9125d0",
   "metadata": {
    "execution": {
     "iopub.execute_input": "2025-05-06T08:04:53.385675Z",
     "iopub.status.busy": "2025-05-06T08:04:53.385244Z",
     "iopub.status.idle": "2025-05-06T08:04:53.390476Z",
     "shell.execute_reply": "2025-05-06T08:04:53.388969Z"
    },
    "papermill": {
     "duration": 0.0144,
     "end_time": "2025-05-06T08:04:53.392169",
     "exception": false,
     "start_time": "2025-05-06T08:04:53.377769",
     "status": "completed"
    },
    "tags": []
   },
   "outputs": [],
   "source": [
    "# # For train\n",
    "# df_train = pd.get_dummies(df_train, columns=['Podcast_Name'], drop_first=True,dtype=int)\n",
    "\n",
    "# # For test\n",
    "# df_test = pd.get_dummies(df_test, columns=['Podcast_Name'], drop_first=True,dtype=int)\n",
    "\n"
   ]
  },
  {
   "cell_type": "code",
   "execution_count": 17,
   "id": "cad3aebd",
   "metadata": {
    "execution": {
     "iopub.execute_input": "2025-05-06T08:04:53.405453Z",
     "iopub.status.busy": "2025-05-06T08:04:53.405135Z",
     "iopub.status.idle": "2025-05-06T08:04:55.594185Z",
     "shell.execute_reply": "2025-05-06T08:04:55.593000Z"
    },
    "papermill": {
     "duration": 2.197351,
     "end_time": "2025-05-06T08:04:55.595865",
     "exception": false,
     "start_time": "2025-05-06T08:04:53.398514",
     "status": "completed"
    },
    "tags": []
   },
   "outputs": [
    {
     "data": {
      "text/html": [
       "<div>\n",
       "<style scoped>\n",
       "    .dataframe tbody tr th:only-of-type {\n",
       "        vertical-align: middle;\n",
       "    }\n",
       "\n",
       "    .dataframe tbody tr th {\n",
       "        vertical-align: top;\n",
       "    }\n",
       "\n",
       "    .dataframe thead th {\n",
       "        text-align: right;\n",
       "    }\n",
       "</style>\n",
       "<table border=\"1\" class=\"dataframe\">\n",
       "  <thead>\n",
       "    <tr style=\"text-align: right;\">\n",
       "      <th></th>\n",
       "      <th>Podcast_Name</th>\n",
       "      <th>Episode_Title</th>\n",
       "      <th>Episode_Length_minutes</th>\n",
       "      <th>Genre</th>\n",
       "      <th>Host_Popularity_percentage</th>\n",
       "      <th>Publication_Day</th>\n",
       "      <th>Publication_Time</th>\n",
       "      <th>Guest_Popularity_percentage</th>\n",
       "      <th>Number_of_Ads</th>\n",
       "      <th>Episode_Sentiment</th>\n",
       "    </tr>\n",
       "  </thead>\n",
       "  <tbody>\n",
       "    <tr>\n",
       "      <th>0</th>\n",
       "      <td>11</td>\n",
       "      <td>73</td>\n",
       "      <td>78.96</td>\n",
       "      <td>2</td>\n",
       "      <td>38.11</td>\n",
       "      <td>2</td>\n",
       "      <td>1</td>\n",
       "      <td>53.33</td>\n",
       "      <td>1.0</td>\n",
       "      <td>1</td>\n",
       "    </tr>\n",
       "    <tr>\n",
       "      <th>1</th>\n",
       "      <td>36</td>\n",
       "      <td>23</td>\n",
       "      <td>27.87</td>\n",
       "      <td>5</td>\n",
       "      <td>71.29</td>\n",
       "      <td>3</td>\n",
       "      <td>2</td>\n",
       "      <td>53.58</td>\n",
       "      <td>0.0</td>\n",
       "      <td>1</td>\n",
       "    </tr>\n",
       "    <tr>\n",
       "      <th>2</th>\n",
       "      <td>24</td>\n",
       "      <td>11</td>\n",
       "      <td>69.10</td>\n",
       "      <td>1</td>\n",
       "      <td>67.89</td>\n",
       "      <td>0</td>\n",
       "      <td>1</td>\n",
       "      <td>97.51</td>\n",
       "      <td>0.0</td>\n",
       "      <td>2</td>\n",
       "    </tr>\n",
       "    <tr>\n",
       "      <th>3</th>\n",
       "      <td>4</td>\n",
       "      <td>73</td>\n",
       "      <td>115.39</td>\n",
       "      <td>1</td>\n",
       "      <td>23.40</td>\n",
       "      <td>3</td>\n",
       "      <td>2</td>\n",
       "      <td>51.75</td>\n",
       "      <td>2.0</td>\n",
       "      <td>2</td>\n",
       "    </tr>\n",
       "    <tr>\n",
       "      <th>4</th>\n",
       "      <td>27</td>\n",
       "      <td>50</td>\n",
       "      <td>72.32</td>\n",
       "      <td>4</td>\n",
       "      <td>58.10</td>\n",
       "      <td>6</td>\n",
       "      <td>2</td>\n",
       "      <td>11.30</td>\n",
       "      <td>2.0</td>\n",
       "      <td>1</td>\n",
       "    </tr>\n",
       "    <tr>\n",
       "      <th>5</th>\n",
       "      <td>32</td>\n",
       "      <td>43</td>\n",
       "      <td>34.44</td>\n",
       "      <td>0</td>\n",
       "      <td>77.18</td>\n",
       "      <td>3</td>\n",
       "      <td>3</td>\n",
       "      <td>53.58</td>\n",
       "      <td>0.0</td>\n",
       "      <td>1</td>\n",
       "    </tr>\n",
       "    <tr>\n",
       "      <th>6</th>\n",
       "      <td>34</td>\n",
       "      <td>33</td>\n",
       "      <td>116.09</td>\n",
       "      <td>9</td>\n",
       "      <td>27.57</td>\n",
       "      <td>0</td>\n",
       "      <td>3</td>\n",
       "      <td>22.82</td>\n",
       "      <td>1.0</td>\n",
       "      <td>2</td>\n",
       "    </tr>\n",
       "    <tr>\n",
       "      <th>7</th>\n",
       "      <td>16</td>\n",
       "      <td>24</td>\n",
       "      <td>54.59</td>\n",
       "      <td>8</td>\n",
       "      <td>94.86</td>\n",
       "      <td>5</td>\n",
       "      <td>2</td>\n",
       "      <td>94.76</td>\n",
       "      <td>1.0</td>\n",
       "      <td>1</td>\n",
       "    </tr>\n",
       "    <tr>\n",
       "      <th>8</th>\n",
       "      <td>21</td>\n",
       "      <td>87</td>\n",
       "      <td>92.69</td>\n",
       "      <td>4</td>\n",
       "      <td>75.22</td>\n",
       "      <td>0</td>\n",
       "      <td>3</td>\n",
       "      <td>72.63</td>\n",
       "      <td>0.0</td>\n",
       "      <td>1</td>\n",
       "    </tr>\n",
       "    <tr>\n",
       "      <th>9</th>\n",
       "      <td>44</td>\n",
       "      <td>76</td>\n",
       "      <td>100.65</td>\n",
       "      <td>9</td>\n",
       "      <td>27.66</td>\n",
       "      <td>5</td>\n",
       "      <td>1</td>\n",
       "      <td>53.58</td>\n",
       "      <td>1.0</td>\n",
       "      <td>0</td>\n",
       "    </tr>\n",
       "  </tbody>\n",
       "</table>\n",
       "</div>"
      ],
      "text/plain": [
       "   Podcast_Name  Episode_Title  Episode_Length_minutes  Genre  \\\n",
       "0            11             73                   78.96      2   \n",
       "1            36             23                   27.87      5   \n",
       "2            24             11                   69.10      1   \n",
       "3             4             73                  115.39      1   \n",
       "4            27             50                   72.32      4   \n",
       "5            32             43                   34.44      0   \n",
       "6            34             33                  116.09      9   \n",
       "7            16             24                   54.59      8   \n",
       "8            21             87                   92.69      4   \n",
       "9            44             76                  100.65      9   \n",
       "\n",
       "   Host_Popularity_percentage  Publication_Day  Publication_Time  \\\n",
       "0                       38.11                2                 1   \n",
       "1                       71.29                3                 2   \n",
       "2                       67.89                0                 1   \n",
       "3                       23.40                3                 2   \n",
       "4                       58.10                6                 2   \n",
       "5                       77.18                3                 3   \n",
       "6                       27.57                0                 3   \n",
       "7                       94.86                5                 2   \n",
       "8                       75.22                0                 3   \n",
       "9                       27.66                5                 1   \n",
       "\n",
       "   Guest_Popularity_percentage  Number_of_Ads  Episode_Sentiment  \n",
       "0                        53.33            1.0                  1  \n",
       "1                        53.58            0.0                  1  \n",
       "2                        97.51            0.0                  2  \n",
       "3                        51.75            2.0                  2  \n",
       "4                        11.30            2.0                  1  \n",
       "5                        53.58            0.0                  1  \n",
       "6                        22.82            1.0                  2  \n",
       "7                        94.76            1.0                  1  \n",
       "8                        72.63            0.0                  1  \n",
       "9                        53.58            1.0                  0  "
      ]
     },
     "execution_count": 17,
     "metadata": {},
     "output_type": "execute_result"
    }
   ],
   "source": [
    "df_train['Episode_Title']=df_train['Episode_Title'].str.split().str[-1].astype(int)\n",
    "df_test['Episode_Title']=df_test['Episode_Title'].str.split(' ').str[-1].astype(int)\n",
    "df_test.head(10)"
   ]
  },
  {
   "cell_type": "code",
   "execution_count": 18,
   "id": "fff065fe",
   "metadata": {
    "execution": {
     "iopub.execute_input": "2025-05-06T08:04:55.610397Z",
     "iopub.status.busy": "2025-05-06T08:04:55.610080Z",
     "iopub.status.idle": "2025-05-06T08:04:55.625923Z",
     "shell.execute_reply": "2025-05-06T08:04:55.624817Z"
    },
    "papermill": {
     "duration": 0.025039,
     "end_time": "2025-05-06T08:04:55.627648",
     "exception": false,
     "start_time": "2025-05-06T08:04:55.602609",
     "status": "completed"
    },
    "tags": []
   },
   "outputs": [
    {
     "data": {
      "text/html": [
       "<div>\n",
       "<style scoped>\n",
       "    .dataframe tbody tr th:only-of-type {\n",
       "        vertical-align: middle;\n",
       "    }\n",
       "\n",
       "    .dataframe tbody tr th {\n",
       "        vertical-align: top;\n",
       "    }\n",
       "\n",
       "    .dataframe thead th {\n",
       "        text-align: right;\n",
       "    }\n",
       "</style>\n",
       "<table border=\"1\" class=\"dataframe\">\n",
       "  <thead>\n",
       "    <tr style=\"text-align: right;\">\n",
       "      <th></th>\n",
       "      <th>Podcast_Name</th>\n",
       "      <th>Episode_Title</th>\n",
       "      <th>Episode_Length_minutes</th>\n",
       "      <th>Genre</th>\n",
       "      <th>Host_Popularity_percentage</th>\n",
       "      <th>Publication_Day</th>\n",
       "      <th>Publication_Time</th>\n",
       "      <th>Guest_Popularity_percentage</th>\n",
       "      <th>Number_of_Ads</th>\n",
       "      <th>Episode_Sentiment</th>\n",
       "      <th>Listening_Time_minutes</th>\n",
       "    </tr>\n",
       "  </thead>\n",
       "  <tbody>\n",
       "    <tr>\n",
       "      <th>0</th>\n",
       "      <td>34</td>\n",
       "      <td>98</td>\n",
       "      <td>63.84</td>\n",
       "      <td>9</td>\n",
       "      <td>74.81</td>\n",
       "      <td>4</td>\n",
       "      <td>3</td>\n",
       "      <td>53.58</td>\n",
       "      <td>0.0</td>\n",
       "      <td>2</td>\n",
       "      <td>31.41998</td>\n",
       "    </tr>\n",
       "    <tr>\n",
       "      <th>1</th>\n",
       "      <td>24</td>\n",
       "      <td>26</td>\n",
       "      <td>119.80</td>\n",
       "      <td>1</td>\n",
       "      <td>66.95</td>\n",
       "      <td>2</td>\n",
       "      <td>0</td>\n",
       "      <td>75.95</td>\n",
       "      <td>2.0</td>\n",
       "      <td>0</td>\n",
       "      <td>88.01241</td>\n",
       "    </tr>\n",
       "    <tr>\n",
       "      <th>2</th>\n",
       "      <td>40</td>\n",
       "      <td>16</td>\n",
       "      <td>73.90</td>\n",
       "      <td>2</td>\n",
       "      <td>69.97</td>\n",
       "      <td>5</td>\n",
       "      <td>1</td>\n",
       "      <td>8.97</td>\n",
       "      <td>0.0</td>\n",
       "      <td>0</td>\n",
       "      <td>44.92531</td>\n",
       "    </tr>\n",
       "    <tr>\n",
       "      <th>3</th>\n",
       "      <td>10</td>\n",
       "      <td>45</td>\n",
       "      <td>67.17</td>\n",
       "      <td>8</td>\n",
       "      <td>57.22</td>\n",
       "      <td>1</td>\n",
       "      <td>2</td>\n",
       "      <td>78.70</td>\n",
       "      <td>2.0</td>\n",
       "      <td>2</td>\n",
       "      <td>46.27824</td>\n",
       "    </tr>\n",
       "    <tr>\n",
       "      <th>4</th>\n",
       "      <td>31</td>\n",
       "      <td>86</td>\n",
       "      <td>110.51</td>\n",
       "      <td>3</td>\n",
       "      <td>80.07</td>\n",
       "      <td>1</td>\n",
       "      <td>0</td>\n",
       "      <td>58.68</td>\n",
       "      <td>3.0</td>\n",
       "      <td>1</td>\n",
       "      <td>75.61031</td>\n",
       "    </tr>\n",
       "    <tr>\n",
       "      <th>5</th>\n",
       "      <td>14</td>\n",
       "      <td>19</td>\n",
       "      <td>26.54</td>\n",
       "      <td>3</td>\n",
       "      <td>48.96</td>\n",
       "      <td>2</td>\n",
       "      <td>0</td>\n",
       "      <td>53.58</td>\n",
       "      <td>3.0</td>\n",
       "      <td>2</td>\n",
       "      <td>22.77047</td>\n",
       "    </tr>\n",
       "    <tr>\n",
       "      <th>6</th>\n",
       "      <td>6</td>\n",
       "      <td>47</td>\n",
       "      <td>69.83</td>\n",
       "      <td>9</td>\n",
       "      <td>35.82</td>\n",
       "      <td>3</td>\n",
       "      <td>3</td>\n",
       "      <td>39.02</td>\n",
       "      <td>0.0</td>\n",
       "      <td>1</td>\n",
       "      <td>64.75024</td>\n",
       "    </tr>\n",
       "    <tr>\n",
       "      <th>7</th>\n",
       "      <td>35</td>\n",
       "      <td>44</td>\n",
       "      <td>48.52</td>\n",
       "      <td>6</td>\n",
       "      <td>44.99</td>\n",
       "      <td>4</td>\n",
       "      <td>3</td>\n",
       "      <td>20.12</td>\n",
       "      <td>0.0</td>\n",
       "      <td>2</td>\n",
       "      <td>22.37517</td>\n",
       "    </tr>\n",
       "    <tr>\n",
       "      <th>8</th>\n",
       "      <td>8</td>\n",
       "      <td>32</td>\n",
       "      <td>105.87</td>\n",
       "      <td>6</td>\n",
       "      <td>69.81</td>\n",
       "      <td>1</td>\n",
       "      <td>1</td>\n",
       "      <td>53.58</td>\n",
       "      <td>2.0</td>\n",
       "      <td>1</td>\n",
       "      <td>68.00124</td>\n",
       "    </tr>\n",
       "    <tr>\n",
       "      <th>9</th>\n",
       "      <td>33</td>\n",
       "      <td>81</td>\n",
       "      <td>63.84</td>\n",
       "      <td>5</td>\n",
       "      <td>82.18</td>\n",
       "      <td>4</td>\n",
       "      <td>3</td>\n",
       "      <td>59.72</td>\n",
       "      <td>3.0</td>\n",
       "      <td>1</td>\n",
       "      <td>45.94761</td>\n",
       "    </tr>\n",
       "  </tbody>\n",
       "</table>\n",
       "</div>"
      ],
      "text/plain": [
       "   Podcast_Name  Episode_Title  Episode_Length_minutes  Genre  \\\n",
       "0            34             98                   63.84      9   \n",
       "1            24             26                  119.80      1   \n",
       "2            40             16                   73.90      2   \n",
       "3            10             45                   67.17      8   \n",
       "4            31             86                  110.51      3   \n",
       "5            14             19                   26.54      3   \n",
       "6             6             47                   69.83      9   \n",
       "7            35             44                   48.52      6   \n",
       "8             8             32                  105.87      6   \n",
       "9            33             81                   63.84      5   \n",
       "\n",
       "   Host_Popularity_percentage  Publication_Day  Publication_Time  \\\n",
       "0                       74.81                4                 3   \n",
       "1                       66.95                2                 0   \n",
       "2                       69.97                5                 1   \n",
       "3                       57.22                1                 2   \n",
       "4                       80.07                1                 0   \n",
       "5                       48.96                2                 0   \n",
       "6                       35.82                3                 3   \n",
       "7                       44.99                4                 3   \n",
       "8                       69.81                1                 1   \n",
       "9                       82.18                4                 3   \n",
       "\n",
       "   Guest_Popularity_percentage  Number_of_Ads  Episode_Sentiment  \\\n",
       "0                        53.58            0.0                  2   \n",
       "1                        75.95            2.0                  0   \n",
       "2                         8.97            0.0                  0   \n",
       "3                        78.70            2.0                  2   \n",
       "4                        58.68            3.0                  1   \n",
       "5                        53.58            3.0                  2   \n",
       "6                        39.02            0.0                  1   \n",
       "7                        20.12            0.0                  2   \n",
       "8                        53.58            2.0                  1   \n",
       "9                        59.72            3.0                  1   \n",
       "\n",
       "   Listening_Time_minutes  \n",
       "0                31.41998  \n",
       "1                88.01241  \n",
       "2                44.92531  \n",
       "3                46.27824  \n",
       "4                75.61031  \n",
       "5                22.77047  \n",
       "6                64.75024  \n",
       "7                22.37517  \n",
       "8                68.00124  \n",
       "9                45.94761  "
      ]
     },
     "execution_count": 18,
     "metadata": {},
     "output_type": "execute_result"
    }
   ],
   "source": [
    "df_train.head(10)"
   ]
  },
  {
   "cell_type": "code",
   "execution_count": 19,
   "id": "49f3fb83",
   "metadata": {
    "execution": {
     "iopub.execute_input": "2025-05-06T08:04:55.643084Z",
     "iopub.status.busy": "2025-05-06T08:04:55.642735Z",
     "iopub.status.idle": "2025-05-06T08:04:55.659263Z",
     "shell.execute_reply": "2025-05-06T08:04:55.657948Z"
    },
    "papermill": {
     "duration": 0.02686,
     "end_time": "2025-05-06T08:04:55.661340",
     "exception": false,
     "start_time": "2025-05-06T08:04:55.634480",
     "status": "completed"
    },
    "tags": []
   },
   "outputs": [
    {
     "name": "stdout",
     "output_type": "stream",
     "text": [
      "<class 'pandas.core.frame.DataFrame'>\n",
      "RangeIndex: 250000 entries, 0 to 249999\n",
      "Data columns (total 10 columns):\n",
      " #   Column                       Non-Null Count   Dtype  \n",
      "---  ------                       --------------   -----  \n",
      " 0   Podcast_Name                 250000 non-null  int64  \n",
      " 1   Episode_Title                250000 non-null  int64  \n",
      " 2   Episode_Length_minutes       250000 non-null  float64\n",
      " 3   Genre                        250000 non-null  int64  \n",
      " 4   Host_Popularity_percentage   250000 non-null  float64\n",
      " 5   Publication_Day              250000 non-null  int64  \n",
      " 6   Publication_Time             250000 non-null  int64  \n",
      " 7   Guest_Popularity_percentage  250000 non-null  float64\n",
      " 8   Number_of_Ads                250000 non-null  float64\n",
      " 9   Episode_Sentiment            250000 non-null  int64  \n",
      "dtypes: float64(4), int64(6)\n",
      "memory usage: 19.1 MB\n"
     ]
    }
   ],
   "source": [
    "df_test.info()"
   ]
  },
  {
   "cell_type": "code",
   "execution_count": null,
   "id": "b219d480",
   "metadata": {
    "papermill": {
     "duration": 0.006314,
     "end_time": "2025-05-06T08:04:55.674757",
     "exception": false,
     "start_time": "2025-05-06T08:04:55.668443",
     "status": "completed"
    },
    "tags": []
   },
   "outputs": [],
   "source": []
  },
  {
   "cell_type": "code",
   "execution_count": 20,
   "id": "d55b7d3d",
   "metadata": {
    "execution": {
     "iopub.execute_input": "2025-05-06T08:04:55.689924Z",
     "iopub.status.busy": "2025-05-06T08:04:55.689597Z",
     "iopub.status.idle": "2025-05-06T08:04:55.722982Z",
     "shell.execute_reply": "2025-05-06T08:04:55.721650Z"
    },
    "papermill": {
     "duration": 0.042787,
     "end_time": "2025-05-06T08:04:55.724639",
     "exception": false,
     "start_time": "2025-05-06T08:04:55.681852",
     "status": "completed"
    },
    "tags": []
   },
   "outputs": [
    {
     "name": "stdout",
     "output_type": "stream",
     "text": [
      "<class 'pandas.core.frame.DataFrame'>\n",
      "RangeIndex: 750000 entries, 0 to 749999\n",
      "Data columns (total 11 columns):\n",
      " #   Column                       Non-Null Count   Dtype  \n",
      "---  ------                       --------------   -----  \n",
      " 0   Podcast_Name                 750000 non-null  int64  \n",
      " 1   Episode_Title                750000 non-null  int64  \n",
      " 2   Episode_Length_minutes       750000 non-null  float64\n",
      " 3   Genre                        750000 non-null  int64  \n",
      " 4   Host_Popularity_percentage   750000 non-null  float64\n",
      " 5   Publication_Day              750000 non-null  int64  \n",
      " 6   Publication_Time             750000 non-null  int64  \n",
      " 7   Guest_Popularity_percentage  750000 non-null  float64\n",
      " 8   Number_of_Ads                750000 non-null  float64\n",
      " 9   Episode_Sentiment            750000 non-null  int64  \n",
      " 10  Listening_Time_minutes       750000 non-null  float64\n",
      "dtypes: float64(5), int64(6)\n",
      "memory usage: 62.9 MB\n"
     ]
    }
   ],
   "source": [
    "df_train.info()"
   ]
  },
  {
   "cell_type": "code",
   "execution_count": 21,
   "id": "de67ce98",
   "metadata": {
    "execution": {
     "iopub.execute_input": "2025-05-06T08:04:55.742264Z",
     "iopub.status.busy": "2025-05-06T08:04:55.741935Z",
     "iopub.status.idle": "2025-05-06T08:04:55.746522Z",
     "shell.execute_reply": "2025-05-06T08:04:55.745406Z"
    },
    "papermill": {
     "duration": 0.014852,
     "end_time": "2025-05-06T08:04:55.748240",
     "exception": false,
     "start_time": "2025-05-06T08:04:55.733388",
     "status": "completed"
    },
    "tags": []
   },
   "outputs": [],
   "source": [
    "# df_train.drop(columns=['Podcast_Name'],inplace=True)\n",
    "# df_test.drop(columns=['Podcast_Name'],inplace=True)\n"
   ]
  },
  {
   "cell_type": "code",
   "execution_count": 22,
   "id": "eb1ac6f5",
   "metadata": {
    "execution": {
     "iopub.execute_input": "2025-05-06T08:04:55.763000Z",
     "iopub.status.busy": "2025-05-06T08:04:55.762685Z",
     "iopub.status.idle": "2025-05-06T08:04:55.798586Z",
     "shell.execute_reply": "2025-05-06T08:04:55.797567Z"
    },
    "papermill": {
     "duration": 0.045556,
     "end_time": "2025-05-06T08:04:55.800709",
     "exception": false,
     "start_time": "2025-05-06T08:04:55.755153",
     "status": "completed"
    },
    "tags": []
   },
   "outputs": [],
   "source": [
    "x_train=df_train.drop(columns=['Listening_Time_minutes'])\n",
    "y_train=df_train['Listening_Time_minutes']\n",
    "x_test=df_test"
   ]
  },
  {
   "cell_type": "code",
   "execution_count": null,
   "id": "4405a029",
   "metadata": {
    "papermill": {
     "duration": 0.006277,
     "end_time": "2025-05-06T08:04:55.813741",
     "exception": false,
     "start_time": "2025-05-06T08:04:55.807464",
     "status": "completed"
    },
    "tags": []
   },
   "outputs": [],
   "source": []
  },
  {
   "cell_type": "code",
   "execution_count": null,
   "id": "cd300bd3",
   "metadata": {
    "papermill": {
     "duration": 0.006126,
     "end_time": "2025-05-06T08:04:55.826295",
     "exception": false,
     "start_time": "2025-05-06T08:04:55.820169",
     "status": "completed"
    },
    "tags": []
   },
   "outputs": [],
   "source": []
  },
  {
   "cell_type": "code",
   "execution_count": 23,
   "id": "f4a18825",
   "metadata": {
    "execution": {
     "iopub.execute_input": "2025-05-06T08:04:55.840796Z",
     "iopub.status.busy": "2025-05-06T08:04:55.840477Z",
     "iopub.status.idle": "2025-05-06T08:05:02.527423Z",
     "shell.execute_reply": "2025-05-06T08:05:02.526277Z"
    },
    "papermill": {
     "duration": 6.696373,
     "end_time": "2025-05-06T08:05:02.529305",
     "exception": false,
     "start_time": "2025-05-06T08:04:55.832932",
     "status": "completed"
    },
    "tags": []
   },
   "outputs": [],
   "source": [
    "from lightgbm import LGBMRegressor\n",
    "from sklearn.model_selection import train_test_split\n",
    "from sklearn.metrics import mean_squared_error\n",
    "from sklearn.ensemble import RandomForestRegressor\n",
    "from sklearn.tree import DecisionTreeRegressor\n",
    "from sklearn.linear_model import LinearRegression\n",
    "from sklearn.metrics import r2_score\n",
    "from sklearn.metrics import mean_absolute_error, mean_squared_error, r2_score\n",
    "\n",
    "\n"
   ]
  },
  {
   "cell_type": "code",
   "execution_count": 24,
   "id": "f4529121",
   "metadata": {
    "execution": {
     "iopub.execute_input": "2025-05-06T08:05:02.544645Z",
     "iopub.status.busy": "2025-05-06T08:05:02.544010Z",
     "iopub.status.idle": "2025-05-06T08:06:52.844255Z",
     "shell.execute_reply": "2025-05-06T08:06:52.842489Z"
    },
    "papermill": {
     "duration": 110.309711,
     "end_time": "2025-05-06T08:06:52.846075",
     "exception": false,
     "start_time": "2025-05-06T08:05:02.536364",
     "status": "completed"
    },
    "tags": []
   },
   "outputs": [
    {
     "name": "stderr",
     "output_type": "stream",
     "text": [
      "/usr/local/lib/python3.11/dist-packages/lightgbm/engine.py:204: UserWarning: Found `n_iter` in params. Will use it instead of argument\n",
      "  _log_warning(f\"Found `{alias}` in params. Will use it instead of argument\")\n"
     ]
    }
   ],
   "source": [
    "lg=LGBMRegressor(\n",
    "       n_iter=1000,\n",
    "        max_depth=-1,\n",
    "        num_leaves=1024,\n",
    "        colsample_bytree=0.7,\n",
    "        learning_rate=0.03,\n",
    "        objective='l2',\n",
    "        metric='rmse', \n",
    "        verbosity=-1,\n",
    "        max_bin=1024\n",
    "    )\n",
    "model=lg.fit(x_train,y_train)\n",
    "prediction=model.predict(x_test)"
   ]
  },
  {
   "cell_type": "code",
   "execution_count": 25,
   "id": "b97da866",
   "metadata": {
    "execution": {
     "iopub.execute_input": "2025-05-06T08:06:52.861477Z",
     "iopub.status.busy": "2025-05-06T08:06:52.861133Z",
     "iopub.status.idle": "2025-05-06T08:06:52.958295Z",
     "shell.execute_reply": "2025-05-06T08:06:52.957422Z"
    },
    "papermill": {
     "duration": 0.106626,
     "end_time": "2025-05-06T08:06:52.959760",
     "exception": false,
     "start_time": "2025-05-06T08:06:52.853134",
     "status": "completed"
    },
    "tags": []
   },
   "outputs": [
    {
     "data": {
      "text/html": [
       "<div>\n",
       "<style scoped>\n",
       "    .dataframe tbody tr th:only-of-type {\n",
       "        vertical-align: middle;\n",
       "    }\n",
       "\n",
       "    .dataframe tbody tr th {\n",
       "        vertical-align: top;\n",
       "    }\n",
       "\n",
       "    .dataframe thead th {\n",
       "        text-align: right;\n",
       "    }\n",
       "</style>\n",
       "<table border=\"1\" class=\"dataframe\">\n",
       "  <thead>\n",
       "    <tr style=\"text-align: right;\">\n",
       "      <th></th>\n",
       "      <th>id</th>\n",
       "      <th>Listening_Time_minutes</th>\n",
       "    </tr>\n",
       "  </thead>\n",
       "  <tbody>\n",
       "    <tr>\n",
       "      <th>0</th>\n",
       "      <td>750000</td>\n",
       "      <td>45.437</td>\n",
       "    </tr>\n",
       "    <tr>\n",
       "      <th>1</th>\n",
       "      <td>750001</td>\n",
       "      <td>45.437</td>\n",
       "    </tr>\n",
       "    <tr>\n",
       "      <th>2</th>\n",
       "      <td>750002</td>\n",
       "      <td>45.437</td>\n",
       "    </tr>\n",
       "    <tr>\n",
       "      <th>3</th>\n",
       "      <td>750003</td>\n",
       "      <td>45.437</td>\n",
       "    </tr>\n",
       "    <tr>\n",
       "      <th>4</th>\n",
       "      <td>750004</td>\n",
       "      <td>45.437</td>\n",
       "    </tr>\n",
       "    <tr>\n",
       "      <th>5</th>\n",
       "      <td>750005</td>\n",
       "      <td>45.437</td>\n",
       "    </tr>\n",
       "    <tr>\n",
       "      <th>6</th>\n",
       "      <td>750006</td>\n",
       "      <td>45.437</td>\n",
       "    </tr>\n",
       "    <tr>\n",
       "      <th>7</th>\n",
       "      <td>750007</td>\n",
       "      <td>45.437</td>\n",
       "    </tr>\n",
       "    <tr>\n",
       "      <th>8</th>\n",
       "      <td>750008</td>\n",
       "      <td>45.437</td>\n",
       "    </tr>\n",
       "    <tr>\n",
       "      <th>9</th>\n",
       "      <td>750009</td>\n",
       "      <td>45.437</td>\n",
       "    </tr>\n",
       "  </tbody>\n",
       "</table>\n",
       "</div>"
      ],
      "text/plain": [
       "       id  Listening_Time_minutes\n",
       "0  750000                  45.437\n",
       "1  750001                  45.437\n",
       "2  750002                  45.437\n",
       "3  750003                  45.437\n",
       "4  750004                  45.437\n",
       "5  750005                  45.437\n",
       "6  750006                  45.437\n",
       "7  750007                  45.437\n",
       "8  750008                  45.437\n",
       "9  750009                  45.437"
      ]
     },
     "execution_count": 25,
     "metadata": {},
     "output_type": "execute_result"
    }
   ],
   "source": [
    "submission=pd.read_csv(\"/kaggle/input/playground-series-s5e4/sample_submission.csv\")\n",
    "submission.head(10)"
   ]
  },
  {
   "cell_type": "code",
   "execution_count": 26,
   "id": "56e2c10b",
   "metadata": {
    "execution": {
     "iopub.execute_input": "2025-05-06T08:06:52.975917Z",
     "iopub.status.busy": "2025-05-06T08:06:52.975549Z",
     "iopub.status.idle": "2025-05-06T08:06:52.980529Z",
     "shell.execute_reply": "2025-05-06T08:06:52.979672Z"
    },
    "papermill": {
     "duration": 0.01436,
     "end_time": "2025-05-06T08:06:52.982118",
     "exception": false,
     "start_time": "2025-05-06T08:06:52.967758",
     "status": "completed"
    },
    "tags": []
   },
   "outputs": [],
   "source": [
    "submission['Listening_Time_minutes']=prediction"
   ]
  },
  {
   "cell_type": "code",
   "execution_count": 27,
   "id": "df9d2ef6",
   "metadata": {
    "execution": {
     "iopub.execute_input": "2025-05-06T08:06:52.999211Z",
     "iopub.status.busy": "2025-05-06T08:06:52.998558Z",
     "iopub.status.idle": "2025-05-06T08:06:53.009984Z",
     "shell.execute_reply": "2025-05-06T08:06:53.008725Z"
    },
    "papermill": {
     "duration": 0.021933,
     "end_time": "2025-05-06T08:06:53.011655",
     "exception": false,
     "start_time": "2025-05-06T08:06:52.989722",
     "status": "completed"
    },
    "tags": []
   },
   "outputs": [
    {
     "data": {
      "text/html": [
       "<div>\n",
       "<style scoped>\n",
       "    .dataframe tbody tr th:only-of-type {\n",
       "        vertical-align: middle;\n",
       "    }\n",
       "\n",
       "    .dataframe tbody tr th {\n",
       "        vertical-align: top;\n",
       "    }\n",
       "\n",
       "    .dataframe thead th {\n",
       "        text-align: right;\n",
       "    }\n",
       "</style>\n",
       "<table border=\"1\" class=\"dataframe\">\n",
       "  <thead>\n",
       "    <tr style=\"text-align: right;\">\n",
       "      <th></th>\n",
       "      <th>id</th>\n",
       "      <th>Listening_Time_minutes</th>\n",
       "    </tr>\n",
       "  </thead>\n",
       "  <tbody>\n",
       "    <tr>\n",
       "      <th>0</th>\n",
       "      <td>750000</td>\n",
       "      <td>54.562642</td>\n",
       "    </tr>\n",
       "    <tr>\n",
       "      <th>1</th>\n",
       "      <td>750001</td>\n",
       "      <td>18.985651</td>\n",
       "    </tr>\n",
       "    <tr>\n",
       "      <th>2</th>\n",
       "      <td>750002</td>\n",
       "      <td>46.044126</td>\n",
       "    </tr>\n",
       "    <tr>\n",
       "      <th>3</th>\n",
       "      <td>750003</td>\n",
       "      <td>73.254572</td>\n",
       "    </tr>\n",
       "    <tr>\n",
       "      <th>4</th>\n",
       "      <td>750004</td>\n",
       "      <td>48.127375</td>\n",
       "    </tr>\n",
       "    <tr>\n",
       "      <th>5</th>\n",
       "      <td>750005</td>\n",
       "      <td>23.257262</td>\n",
       "    </tr>\n",
       "    <tr>\n",
       "      <th>6</th>\n",
       "      <td>750006</td>\n",
       "      <td>85.028212</td>\n",
       "    </tr>\n",
       "    <tr>\n",
       "      <th>7</th>\n",
       "      <td>750007</td>\n",
       "      <td>41.061138</td>\n",
       "    </tr>\n",
       "    <tr>\n",
       "      <th>8</th>\n",
       "      <td>750008</td>\n",
       "      <td>65.128391</td>\n",
       "    </tr>\n",
       "    <tr>\n",
       "      <th>9</th>\n",
       "      <td>750009</td>\n",
       "      <td>76.604115</td>\n",
       "    </tr>\n",
       "  </tbody>\n",
       "</table>\n",
       "</div>"
      ],
      "text/plain": [
       "       id  Listening_Time_minutes\n",
       "0  750000               54.562642\n",
       "1  750001               18.985651\n",
       "2  750002               46.044126\n",
       "3  750003               73.254572\n",
       "4  750004               48.127375\n",
       "5  750005               23.257262\n",
       "6  750006               85.028212\n",
       "7  750007               41.061138\n",
       "8  750008               65.128391\n",
       "9  750009               76.604115"
      ]
     },
     "execution_count": 27,
     "metadata": {},
     "output_type": "execute_result"
    }
   ],
   "source": [
    "submission.head(10)"
   ]
  },
  {
   "cell_type": "code",
   "execution_count": 28,
   "id": "ee4ce357",
   "metadata": {
    "execution": {
     "iopub.execute_input": "2025-05-06T08:06:53.027703Z",
     "iopub.status.busy": "2025-05-06T08:06:53.027406Z",
     "iopub.status.idle": "2025-05-06T08:06:53.674943Z",
     "shell.execute_reply": "2025-05-06T08:06:53.673937Z"
    },
    "papermill": {
     "duration": 0.65999,
     "end_time": "2025-05-06T08:06:53.679523",
     "exception": false,
     "start_time": "2025-05-06T08:06:53.019533",
     "status": "completed"
    },
    "tags": []
   },
   "outputs": [],
   "source": [
    "submission.to_csv('submission.csv', index=False)"
   ]
  },
  {
   "cell_type": "code",
   "execution_count": 29,
   "id": "9f1b4272",
   "metadata": {
    "execution": {
     "iopub.execute_input": "2025-05-06T08:06:53.697438Z",
     "iopub.status.busy": "2025-05-06T08:06:53.697135Z",
     "iopub.status.idle": "2025-05-06T08:06:53.701944Z",
     "shell.execute_reply": "2025-05-06T08:06:53.700975Z"
    },
    "papermill": {
     "duration": 0.014701,
     "end_time": "2025-05-06T08:06:53.703748",
     "exception": false,
     "start_time": "2025-05-06T08:06:53.689047",
     "status": "completed"
    },
    "tags": []
   },
   "outputs": [],
   "source": [
    "# x_train,x_test,y_train,y_test=train_test_split(x,y,test_size=0.25,random_state=42)\n",
    "\n",
    "\n",
    "\n",
    "# models = {\n",
    "#     'LGBM Regressor': LGBMRegressor(\n",
    "#        n_iter=1000,\n",
    "#         max_depth=-1,\n",
    "#         num_leaves=1024,\n",
    "#         colsample_bytree=0.7,\n",
    "#         learning_rate=0.03,\n",
    "#         objective='l2',\n",
    "#         metric='rmse', \n",
    "#         verbosity=-1,\n",
    "#         max_bin=1024\n",
    "#     )\n",
    "\n",
    "\n",
    "# }\n",
    "\n",
    "# # Loop through models and evaluate RMSE with enumeration\n",
    "# for i, (name, model) in enumerate(models.items(), start=1):\n",
    "#     model.fit(x_train, y_train)\n",
    "#     y_pred = model.predict(x_test)\n",
    "#     rmse = np.sqrt(mean_squared_error(y_test, y_pred))\n",
    "#     print(f\"{i}. {name} RMSE: {rmse:.4f}\")\n",
    "#     mae = mean_absolute_error(y_test, y_pred)\n",
    "#     print(\"MAE:\", mae)\n",
    "\n",
    "# # R-squared\n",
    "#     r2 = r2_score(y_test, y_pred)\n",
    "#     print(\"R-squared:\", r2)\n",
    "\n"
   ]
  },
  {
   "cell_type": "code",
   "execution_count": null,
   "id": "ca33c3d2",
   "metadata": {
    "papermill": {
     "duration": 0.010325,
     "end_time": "2025-05-06T08:06:53.721812",
     "exception": false,
     "start_time": "2025-05-06T08:06:53.711487",
     "status": "completed"
    },
    "tags": []
   },
   "outputs": [],
   "source": []
  },
  {
   "cell_type": "code",
   "execution_count": null,
   "id": "b746a47e",
   "metadata": {
    "papermill": {
     "duration": 0.008661,
     "end_time": "2025-05-06T08:06:53.739086",
     "exception": false,
     "start_time": "2025-05-06T08:06:53.730425",
     "status": "completed"
    },
    "tags": []
   },
   "outputs": [],
   "source": []
  }
 ],
 "metadata": {
  "kaggle": {
   "accelerator": "none",
   "dataSources": [
    {
     "databundleVersionId": 11351736,
     "sourceId": 91715,
     "sourceType": "competition"
    }
   ],
   "isGpuEnabled": false,
   "isInternetEnabled": true,
   "language": "python",
   "sourceType": "notebook"
  },
  "kernelspec": {
   "display_name": "Python 3 (ipykernel)",
   "language": "python",
   "name": "python3"
  },
  "language_info": {
   "codemirror_mode": {
    "name": "ipython",
    "version": 3
   },
   "file_extension": ".py",
   "mimetype": "text/x-python",
   "name": "python",
   "nbconvert_exporter": "python",
   "pygments_lexer": "ipython3",
   "version": "3.11.11"
  },
  "papermill": {
   "default_parameters": {},
   "duration": 136.643777,
   "end_time": "2025-05-06T08:06:54.771262",
   "environment_variables": {},
   "exception": null,
   "input_path": "__notebook__.ipynb",
   "output_path": "__notebook__.ipynb",
   "parameters": {},
   "start_time": "2025-05-06T08:04:38.127485",
   "version": "2.6.0"
  }
 },
 "nbformat": 4,
 "nbformat_minor": 5
}
